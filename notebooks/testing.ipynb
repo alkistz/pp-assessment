{
 "cells": [
  {
   "cell_type": "code",
   "execution_count": 9,
   "metadata": {},
   "outputs": [
    {
     "data": {
      "text/plain": [
       "{'data': {'url': 'http://www.londonair.org.uk/london/asp/publicdetails.asp?site=AD1',\n",
       "  'data_avg_dur': None,\n",
       "  'organization': None,\n",
       "  'lifecycle_stage': None},\n",
       " 'readme': None,\n",
       " 'sourceId': 2948441,\n",
       " 'locations': 3,\n",
       " 'sourceName': 'Adur',\n",
       " 'sourceSlug': None}"
      ]
     },
     "execution_count": 9,
     "metadata": {},
     "output_type": "execute_result"
    }
   ],
   "source": [
    "import json\n",
    "import requests\n",
    "\n",
    "\n",
    "import requests\n",
    "\n",
    "url = \"https://api.openaq.org/v2/sources?limit=100&page=1&offset=0&sort=asc&order_by=sourceName\"\n",
    "\n",
    "headers = {\"accept\": \"application/json\"}\n",
    "\n",
    "response = requests.get(url, headers=headers)\n",
    "\n",
    "json_data = response.json()\n",
    "json_data['results'][1]\n"
   ]
  }
 ],
 "metadata": {
  "kernelspec": {
   "display_name": "Python 3.10.7 64-bit ('openAQ')",
   "language": "python",
   "name": "python3"
  },
  "language_info": {
   "codemirror_mode": {
    "name": "ipython",
    "version": 3
   },
   "file_extension": ".py",
   "mimetype": "text/x-python",
   "name": "python",
   "nbconvert_exporter": "python",
   "pygments_lexer": "ipython3",
   "version": "3.10.7"
  },
  "orig_nbformat": 4,
  "vscode": {
   "interpreter": {
    "hash": "b667acaa84ff011ffc40cbe727556a775cf61ecd25fc2132650a06c813cf1f00"
   }
  }
 },
 "nbformat": 4,
 "nbformat_minor": 2
}
