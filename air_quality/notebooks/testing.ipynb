{
 "cells": [
  {
   "cell_type": "markdown",
   "metadata": {},
   "source": [
    "# Package import"
   ]
  },
  {
   "cell_type": "code",
   "execution_count": 48,
   "metadata": {},
   "outputs": [
    {
     "name": "stderr",
     "output_type": "stream",
     "text": [
      "/home/alkis/.pyenv/versions/3.10.7/envs/openAQ/lib/python3.10/site-packages/tqdm/auto.py:22: TqdmWarning: IProgress not found. Please update jupyter and ipywidgets. See https://ipywidgets.readthedocs.io/en/stable/user_install.html\n",
      "  from .autonotebook import tqdm as notebook_tqdm\n"
     ]
    }
   ],
   "source": [
    "import json\n",
    "import requests\n",
    "import ndjson\n",
    "import pandas as pd\n",
    "import os\n",
    "from pandas_profiling import ProfileReport"
   ]
  },
  {
   "cell_type": "markdown",
   "metadata": {},
   "source": [
    "# Functions"
   ]
  },
  {
   "cell_type": "code",
   "execution_count": 32,
   "metadata": {},
   "outputs": [],
   "source": [
    "import ndjson\n",
    "from typing import List, Dict\n",
    "\n",
    "def load_ndjon(file_path: str) -> List[Dict]:\n",
    "    with open(file_path) as f:\n",
    "        return ndjson.load(f)"
   ]
  },
  {
   "cell_type": "markdown",
   "metadata": {},
   "source": [
    "# Testing stuff"
   ]
  },
  {
   "cell_type": "code",
   "execution_count": 3,
   "metadata": {},
   "outputs": [
    {
     "data": {
      "text/plain": [
       "{'data': {'url': 'https://www.adairquality.ae/',\n",
       "  'data_avg_dur': None,\n",
       "  'organization': None,\n",
       "  'lifecycle_stage': None},\n",
       " 'readme': None,\n",
       " 'sourceId': 9800851,\n",
       " 'locations': 81,\n",
       " 'sourceName': 'Abu Dhabi Air Quality',\n",
       " 'sourceSlug': None}"
      ]
     },
     "execution_count": 3,
     "metadata": {},
     "output_type": "execute_result"
    }
   ],
   "source": [
    "\n",
    "\n",
    "url = \"https://api.openaq.org/v2/sources?limit=100&page=1&offset=0&sort=asc&order_by=sourceName\"\n",
    "\n",
    "headers = {\"accept\": \"application/json\"}\n",
    "\n",
    "response = requests.get(url, headers=headers)\n",
    "\n",
    "json_data = response.json()\n",
    "json_data['results'][0]\n"
   ]
  },
  {
   "cell_type": "markdown",
   "metadata": {},
   "source": [
    "# Exploring the data"
   ]
  },
  {
   "cell_type": "code",
   "execution_count": 6,
   "metadata": {},
   "outputs": [
    {
     "data": {
      "text/html": [
       "<div>\n",
       "<style scoped>\n",
       "    .dataframe tbody tr th:only-of-type {\n",
       "        vertical-align: middle;\n",
       "    }\n",
       "\n",
       "    .dataframe tbody tr th {\n",
       "        vertical-align: top;\n",
       "    }\n",
       "\n",
       "    .dataframe thead th {\n",
       "        text-align: right;\n",
       "    }\n",
       "</style>\n",
       "<table border=\"1\" class=\"dataframe\">\n",
       "  <thead>\n",
       "    <tr style=\"text-align: right;\">\n",
       "      <th></th>\n",
       "      <th>country_code</th>\n",
       "      <th>country_name</th>\n",
       "    </tr>\n",
       "  </thead>\n",
       "  <tbody>\n",
       "    <tr>\n",
       "      <th>0</th>\n",
       "      <td>GB</td>\n",
       "      <td>Great Britain</td>\n",
       "    </tr>\n",
       "    <tr>\n",
       "      <th>1</th>\n",
       "      <td>FR</td>\n",
       "      <td>France</td>\n",
       "    </tr>\n",
       "    <tr>\n",
       "      <th>2</th>\n",
       "      <td>NL</td>\n",
       "      <td>Netherlands</td>\n",
       "    </tr>\n",
       "  </tbody>\n",
       "</table>\n",
       "</div>"
      ],
      "text/plain": [
       "  country_code    country_name\n",
       "0           GB   Great Britain\n",
       "1           FR          France\n",
       "2           NL     Netherlands"
      ]
     },
     "execution_count": 6,
     "metadata": {},
     "output_type": "execute_result"
    }
   ],
   "source": [
    "countries_df = pd.read_csv('../raw_data/countries.csv')\n",
    "countries_df"
   ]
  },
  {
   "cell_type": "code",
   "execution_count": 38,
   "metadata": {},
   "outputs": [
    {
     "data": {
      "text/plain": [
       "['1633539068.ndjson',\n",
       " '1633531868.ndjson',\n",
       " '1633542067.ndjson',\n",
       " '1633534868.ndjson',\n",
       " '1633546872.ndjson',\n",
       " '1633527666.ndjson']"
      ]
     },
     "execution_count": 38,
     "metadata": {},
     "output_type": "execute_result"
    }
   ],
   "source": []
  },
  {
   "cell_type": "code",
   "execution_count": 40,
   "metadata": {},
   "outputs": [
    {
     "data": {
      "text/plain": [
       "{'date': {'utc': '2021-08-15T14:30:00.000Z',\n",
       "  'local': '2021-08-15T19:00:00+04:30'},\n",
       " 'parameter': 'pm25',\n",
       " 'value': -999,\n",
       " 'unit': 'µg/m³',\n",
       " 'averagingPeriod': {'value': 1, 'unit': 'hours'},\n",
       " 'location': 'US Diplomatic Post: Kabul',\n",
       " 'city': 'Kabul',\n",
       " 'country': 'AF',\n",
       " 'coordinates': {'latitude': 34.535812, 'longitude': 69.190514},\n",
       " 'attribution': [{'name': 'EPA AirNow DOS',\n",
       "   'url': 'http://airnow.gov/index.cfm?action=airnow.global_summary'}],\n",
       " 'sourceName': 'StateAir_Kabul',\n",
       " 'sourceType': 'government',\n",
       " 'mobile': False}"
      ]
     },
     "execution_count": 40,
     "metadata": {},
     "output_type": "execute_result"
    }
   ],
   "source": [
    "data_path = os.path.join('..', 'raw_data', 'air_quality')\n",
    "\n",
    "data = []\n",
    "for filename in os.listdir(data_path):\n",
    "    data.extend(load_ndjon(os.path.join(data_path, filename)))\n",
    "    \n",
    "\n",
    "\n",
    "    \n",
    "first_element = data[0]\n",
    "first_element"
   ]
  },
  {
   "cell_type": "code",
   "execution_count": 41,
   "metadata": {},
   "outputs": [
    {
     "data": {
      "text/html": [
       "<div>\n",
       "<style scoped>\n",
       "    .dataframe tbody tr th:only-of-type {\n",
       "        vertical-align: middle;\n",
       "    }\n",
       "\n",
       "    .dataframe tbody tr th {\n",
       "        vertical-align: top;\n",
       "    }\n",
       "\n",
       "    .dataframe thead th {\n",
       "        text-align: right;\n",
       "    }\n",
       "</style>\n",
       "<table border=\"1\" class=\"dataframe\">\n",
       "  <thead>\n",
       "    <tr style=\"text-align: right;\">\n",
       "      <th></th>\n",
       "      <th>parameter</th>\n",
       "      <th>value</th>\n",
       "      <th>unit</th>\n",
       "      <th>location</th>\n",
       "      <th>city</th>\n",
       "      <th>country</th>\n",
       "      <th>attribution</th>\n",
       "      <th>sourceName</th>\n",
       "      <th>sourceType</th>\n",
       "      <th>mobile</th>\n",
       "      <th>date_utc</th>\n",
       "      <th>date_local</th>\n",
       "      <th>averagingPeriod_value</th>\n",
       "      <th>averagingPeriod_unit</th>\n",
       "      <th>coordinates_latitude</th>\n",
       "      <th>coordinates_longitude</th>\n",
       "    </tr>\n",
       "  </thead>\n",
       "  <tbody>\n",
       "    <tr>\n",
       "      <th>0</th>\n",
       "      <td>pm25</td>\n",
       "      <td>-999.0</td>\n",
       "      <td>µg/m³</td>\n",
       "      <td>US Diplomatic Post: Kabul</td>\n",
       "      <td>Kabul</td>\n",
       "      <td>AF</td>\n",
       "      <td>[{'name': 'EPA AirNow DOS', 'url': 'http://air...</td>\n",
       "      <td>StateAir_Kabul</td>\n",
       "      <td>government</td>\n",
       "      <td>False</td>\n",
       "      <td>2021-08-15T14:30:00.000Z</td>\n",
       "      <td>2021-08-15T19:00:00+04:30</td>\n",
       "      <td>1.0</td>\n",
       "      <td>hours</td>\n",
       "      <td>34.535812</td>\n",
       "      <td>69.190514</td>\n",
       "    </tr>\n",
       "    <tr>\n",
       "      <th>1</th>\n",
       "      <td>pm25</td>\n",
       "      <td>-999.0</td>\n",
       "      <td>µg/m³</td>\n",
       "      <td>US Diplomatic Post: Kabul</td>\n",
       "      <td>Kabul</td>\n",
       "      <td>AF</td>\n",
       "      <td>[{'name': 'EPA AirNow DOS', 'url': 'http://air...</td>\n",
       "      <td>StateAir_Kabul</td>\n",
       "      <td>government</td>\n",
       "      <td>False</td>\n",
       "      <td>2021-08-15T15:30:00.000Z</td>\n",
       "      <td>2021-08-15T20:00:00+04:30</td>\n",
       "      <td>1.0</td>\n",
       "      <td>hours</td>\n",
       "      <td>34.535812</td>\n",
       "      <td>69.190514</td>\n",
       "    </tr>\n",
       "    <tr>\n",
       "      <th>2</th>\n",
       "      <td>pm25</td>\n",
       "      <td>-999.0</td>\n",
       "      <td>µg/m³</td>\n",
       "      <td>US Diplomatic Post: Kabul</td>\n",
       "      <td>Kabul</td>\n",
       "      <td>AF</td>\n",
       "      <td>[{'name': 'EPA AirNow DOS', 'url': 'http://air...</td>\n",
       "      <td>StateAir_Kabul</td>\n",
       "      <td>government</td>\n",
       "      <td>False</td>\n",
       "      <td>2021-08-15T16:30:00.000Z</td>\n",
       "      <td>2021-08-15T21:00:00+04:30</td>\n",
       "      <td>1.0</td>\n",
       "      <td>hours</td>\n",
       "      <td>34.535812</td>\n",
       "      <td>69.190514</td>\n",
       "    </tr>\n",
       "    <tr>\n",
       "      <th>3</th>\n",
       "      <td>pm25</td>\n",
       "      <td>-999.0</td>\n",
       "      <td>µg/m³</td>\n",
       "      <td>US Diplomatic Post: Kabul</td>\n",
       "      <td>Kabul</td>\n",
       "      <td>AF</td>\n",
       "      <td>[{'name': 'EPA AirNow DOS', 'url': 'http://air...</td>\n",
       "      <td>StateAir_Kabul</td>\n",
       "      <td>government</td>\n",
       "      <td>False</td>\n",
       "      <td>2021-08-15T17:30:00.000Z</td>\n",
       "      <td>2021-08-15T22:00:00+04:30</td>\n",
       "      <td>1.0</td>\n",
       "      <td>hours</td>\n",
       "      <td>34.535812</td>\n",
       "      <td>69.190514</td>\n",
       "    </tr>\n",
       "    <tr>\n",
       "      <th>4</th>\n",
       "      <td>pm25</td>\n",
       "      <td>-999.0</td>\n",
       "      <td>µg/m³</td>\n",
       "      <td>US Diplomatic Post: Kabul</td>\n",
       "      <td>Kabul</td>\n",
       "      <td>AF</td>\n",
       "      <td>[{'name': 'EPA AirNow DOS', 'url': 'http://air...</td>\n",
       "      <td>StateAir_Kabul</td>\n",
       "      <td>government</td>\n",
       "      <td>False</td>\n",
       "      <td>2021-08-15T18:30:00.000Z</td>\n",
       "      <td>2021-08-15T23:00:00+04:30</td>\n",
       "      <td>1.0</td>\n",
       "      <td>hours</td>\n",
       "      <td>34.535812</td>\n",
       "      <td>69.190514</td>\n",
       "    </tr>\n",
       "  </tbody>\n",
       "</table>\n",
       "</div>"
      ],
      "text/plain": [
       "  parameter  value   unit                   location   city country  \\\n",
       "0      pm25 -999.0  µg/m³  US Diplomatic Post: Kabul  Kabul      AF   \n",
       "1      pm25 -999.0  µg/m³  US Diplomatic Post: Kabul  Kabul      AF   \n",
       "2      pm25 -999.0  µg/m³  US Diplomatic Post: Kabul  Kabul      AF   \n",
       "3      pm25 -999.0  µg/m³  US Diplomatic Post: Kabul  Kabul      AF   \n",
       "4      pm25 -999.0  µg/m³  US Diplomatic Post: Kabul  Kabul      AF   \n",
       "\n",
       "                                         attribution      sourceName  \\\n",
       "0  [{'name': 'EPA AirNow DOS', 'url': 'http://air...  StateAir_Kabul   \n",
       "1  [{'name': 'EPA AirNow DOS', 'url': 'http://air...  StateAir_Kabul   \n",
       "2  [{'name': 'EPA AirNow DOS', 'url': 'http://air...  StateAir_Kabul   \n",
       "3  [{'name': 'EPA AirNow DOS', 'url': 'http://air...  StateAir_Kabul   \n",
       "4  [{'name': 'EPA AirNow DOS', 'url': 'http://air...  StateAir_Kabul   \n",
       "\n",
       "   sourceType  mobile                  date_utc                 date_local  \\\n",
       "0  government   False  2021-08-15T14:30:00.000Z  2021-08-15T19:00:00+04:30   \n",
       "1  government   False  2021-08-15T15:30:00.000Z  2021-08-15T20:00:00+04:30   \n",
       "2  government   False  2021-08-15T16:30:00.000Z  2021-08-15T21:00:00+04:30   \n",
       "3  government   False  2021-08-15T17:30:00.000Z  2021-08-15T22:00:00+04:30   \n",
       "4  government   False  2021-08-15T18:30:00.000Z  2021-08-15T23:00:00+04:30   \n",
       "\n",
       "   averagingPeriod_value averagingPeriod_unit  coordinates_latitude  \\\n",
       "0                    1.0                hours             34.535812   \n",
       "1                    1.0                hours             34.535812   \n",
       "2                    1.0                hours             34.535812   \n",
       "3                    1.0                hours             34.535812   \n",
       "4                    1.0                hours             34.535812   \n",
       "\n",
       "   coordinates_longitude  \n",
       "0              69.190514  \n",
       "1              69.190514  \n",
       "2              69.190514  \n",
       "3              69.190514  \n",
       "4              69.190514  "
      ]
     },
     "execution_count": 41,
     "metadata": {},
     "output_type": "execute_result"
    }
   ],
   "source": [
    "df = pd.json_normalize(data, sep=\"_\")\n",
    "\n",
    "df.head()"
   ]
  },
  {
   "cell_type": "code",
   "execution_count": 42,
   "metadata": {},
   "outputs": [
    {
     "data": {
      "text/plain": [
       "parameter                 object\n",
       "value                    float64\n",
       "unit                      object\n",
       "location                  object\n",
       "city                      object\n",
       "country                   object\n",
       "attribution               object\n",
       "sourceName                object\n",
       "sourceType                object\n",
       "mobile                      bool\n",
       "date_utc                  object\n",
       "date_local                object\n",
       "averagingPeriod_value    float64\n",
       "averagingPeriod_unit      object\n",
       "coordinates_latitude     float64\n",
       "coordinates_longitude    float64\n",
       "dtype: object"
      ]
     },
     "execution_count": 42,
     "metadata": {},
     "output_type": "execute_result"
    }
   ],
   "source": [
    "df.dtypes"
   ]
  },
  {
   "cell_type": "code",
   "execution_count": 47,
   "metadata": {},
   "outputs": [
    {
     "name": "stdout",
     "output_type": "stream",
     "text": [
      "<class 'pandas.core.frame.DataFrame'>\n",
      "RangeIndex: 77273 entries, 0 to 77272\n",
      "Data columns (total 16 columns):\n",
      " #   Column                 Non-Null Count  Dtype  \n",
      "---  ------                 --------------  -----  \n",
      " 0   parameter              77273 non-null  object \n",
      " 1   value                  77273 non-null  float64\n",
      " 2   unit                   77273 non-null  object \n",
      " 3   location               77273 non-null  object \n",
      " 4   city                   77273 non-null  object \n",
      " 5   country                77273 non-null  object \n",
      " 6   attribution            77273 non-null  object \n",
      " 7   sourceName             77273 non-null  object \n",
      " 8   sourceType             77273 non-null  object \n",
      " 9   mobile                 77273 non-null  bool   \n",
      " 10  date_utc               77273 non-null  object \n",
      " 11  date_local             77273 non-null  object \n",
      " 12  averagingPeriod_value  77273 non-null  float64\n",
      " 13  averagingPeriod_unit   77273 non-null  object \n",
      " 14  coordinates_latitude   77063 non-null  float64\n",
      " 15  coordinates_longitude  77063 non-null  float64\n",
      "dtypes: bool(1), float64(4), object(11)\n",
      "memory usage: 8.9+ MB\n"
     ]
    }
   ],
   "source": [
    "df.info()"
   ]
  },
  {
   "cell_type": "code",
   "execution_count": 50,
   "metadata": {},
   "outputs": [
    {
     "name": "stderr",
     "output_type": "stream",
     "text": [
      "Summarize dataset:   0%|          | 0/5 [00:00<?, ?it/s]/home/alkis/.pyenv/versions/3.10.7/envs/openAQ/lib/python3.10/site-packages/multimethod/__init__.py:315: FutureWarning: iteritems is deprecated and will be removed in a future version. Use .items instead.\n",
      "  return func(*args, **kwargs)\n",
      "Summarize dataset:  61%|██████    | 17/28 [00:03<00:02,  4.58it/s, Calculate auto correlation]             /home/alkis/.pyenv/versions/3.10.7/envs/openAQ/lib/python3.10/site-packages/multimethod/__init__.py:315: FutureWarning: In a future version, `df.iloc[:, i] = newvals` will attempt to set the values inplace instead of always setting a new array. To retain the old behavior, use either `df[df.columns[i]] = newvals` or, if columns are non-unique, `df.isetitem(i, newvals)`\n",
      "  return func(*args, **kwargs)\n",
      "Summarize dataset:  64%|██████▍   | 18/28 [00:05<00:02,  4.61it/s, Calculate spearman correlation]/home/alkis/.pyenv/versions/3.10.7/envs/openAQ/lib/python3.10/site-packages/multimethod/__init__.py:315: FutureWarning: The default value of numeric_only in DataFrame.corr is deprecated. In a future version, it will default to False. Select only valid columns or specify the value of numeric_only to silence this warning.\n",
      "  return func(*args, **kwargs)\n",
      "Summarize dataset: 100%|██████████| 41/41 [00:12<00:00,  3.33it/s, Completed]                                           \n",
      "Generate report structure: 100%|██████████| 1/1 [00:03<00:00,  3.61s/it]\n",
      "Render HTML: 100%|██████████| 1/1 [00:01<00:00,  1.01s/it]\n",
      "Export report to file: 100%|██████████| 1/1 [00:00<00:00, 379.68it/s]\n"
     ]
    }
   ],
   "source": [
    "profile = ProfileReport(df, title=\"Air Quality data Report\")\n",
    "profile.to_file(\"air_quality_report.html\")"
   ]
  },
  {
   "cell_type": "markdown",
   "metadata": {},
   "source": [
    "# Data models"
   ]
  },
  {
   "cell_type": "code",
   "execution_count": 1,
   "metadata": {},
   "outputs": [],
   "source": [
    "from sqlalchemy.ext.declarative import declarative_base\n",
    "from sqlalchemy import Column\n",
    "from sqlalchemy.sql.sqltypes import Integer, String\n",
    "\n",
    "Base = declarative_base()\n",
    "\n",
    "class DBSources(Base):\n",
    "    __tablename__=\"source\"\n",
    "    id = Column(Integer, primary_key=True, autoincrement=True)\n",
    "    name = Column(String(250), nullable=False)\n",
    "    sourceId = Column(Integer)\n",
    "    location = Column(Integer)\n",
    "    "
   ]
  },
  {
   "cell_type": "code",
   "execution_count": null,
   "metadata": {},
   "outputs": [],
   "source": []
  }
 ],
 "metadata": {
  "kernelspec": {
   "display_name": "Python 3.10.7 64-bit ('openAQ')",
   "language": "python",
   "name": "python3"
  },
  "language_info": {
   "codemirror_mode": {
    "name": "ipython",
    "version": 3
   },
   "file_extension": ".py",
   "mimetype": "text/x-python",
   "name": "python",
   "nbconvert_exporter": "python",
   "pygments_lexer": "ipython3",
   "version": "3.10.7"
  },
  "orig_nbformat": 4,
  "vscode": {
   "interpreter": {
    "hash": "b667acaa84ff011ffc40cbe727556a775cf61ecd25fc2132650a06c813cf1f00"
   }
  }
 },
 "nbformat": 4,
 "nbformat_minor": 2
}
